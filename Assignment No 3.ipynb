{
 "cells": [
  {
   "cell_type": "code",
   "execution_count": 15,
   "metadata": {},
   "outputs": [
    {
     "name": "stdout",
     "output_type": "stream",
     "text": [
      "Enter First Value 20\n",
      "Enter Second Value 30\n",
      "Enter Operator +\n",
      "Answer => 50\n"
     ]
    }
   ],
   "source": [
    "val1= input (\"Enter First Value \")\n",
    "val2= input (\"Enter Second Value \")\n",
    "operator= input (\"Enter Operator \")\n",
    "val1= int(val1)\n",
    "val2= int(val2)\n",
    "\n",
    "if operator == \"+\":\n",
    "    val = val1 + val2\n",
    "    print (\"Answer =>\" , val)\n",
    "\n",
    "elif operator == \"-\":\n",
    "    val = val1 - val2\n",
    "    print (\"Answer =>\" , val)\n",
    "\n",
    "elif operator == \"*\":\n",
    "    val = val1 * val2\n",
    "    print (\"Answer =>\" , val)\n",
    "\n",
    "elif operator == \"/\":\n",
    "    val = val1 / val2\n",
    "    print (\"Answer =>\" , val)\n",
    "else:\n",
    "    print(\"Enter Correct Operator\")"
   ]
  },
  {
   "cell_type": "code",
   "execution_count": 60,
   "metadata": {},
   "outputs": [
    {
     "name": "stdout",
     "output_type": "stream",
     "text": [
      "5 1 20 98 "
     ]
    }
   ],
   "source": [
    "list0 = [5, -16, 1, 20, 98, -9] \n",
    "  \n",
    "for num in list0: \n",
    "    if num >= 0: \n",
    "        print(num, end = \" \") "
   ]
  },
  {
   "cell_type": "code",
   "execution_count": 23,
   "metadata": {},
   "outputs": [
    {
     "name": "stdout",
     "output_type": "stream",
     "text": [
      "{1: 11, 2: 22}\n",
      "{1: 11, 2: 22, 3: 33}\n"
     ]
    }
   ],
   "source": [
    "a = {1:11, 2:22}\n",
    "print(a)\n",
    "a.update({3:33})\n",
    "print(a)"
   ]
  },
  {
   "cell_type": "code",
   "execution_count": 31,
   "metadata": {},
   "outputs": [
    {
     "name": "stdout",
     "output_type": "stream",
     "text": [
      "Total is : 900\n"
     ]
    }
   ],
   "source": [
    "def returnSum(A):\n",
    "      \n",
    "    sum = 0\n",
    "    for a in A: \n",
    "        sum = sum + A[a]\n",
    "      \n",
    "    return sum\n",
    "  \n",
    "dict = {'X': 250, 'Y':300, 'Z':350} \n",
    "print(\"Total is :\", returnSum(dict))"
   ]
  },
  {
   "cell_type": "code",
   "execution_count": 44,
   "metadata": {},
   "outputs": [
    {
     "name": "stdout",
     "output_type": "stream",
     "text": [
      "Repeat Numbers are in list: [20, 30, -20, 60]\n"
     ]
    }
   ],
   "source": [
    "def Repeat(a): \n",
    "    _size = len(a) \n",
    "    repeated = [] \n",
    "    for c in range(_size): \n",
    "        b = c + 1\n",
    "        for d in range(b, _size): \n",
    "            if a[c] == a[d] and a[c] not in repeated: \n",
    "                repeated.append(a[c]) \n",
    "    return repeated \n",
    "  \n",
    "list0 = (5, 50, 30, 50, 50, 30, 40, 20, -1, 60, 60, -1)\n",
    "print (\"Repeat Numbers are in list:\", Repeat(list1))"
   ]
  },
  {
   "cell_type": "code",
   "execution_count": 58,
   "metadata": {},
   "outputs": [
    {
     "name": "stdout",
     "output_type": "stream",
     "text": [
      "Key is present in the dictionary\n",
      "Key is not present in the dictionary\n"
     ]
    }
   ],
   "source": [
    "d = {1: 10, 2: 20, 3: 30, 4: 40, 5: 50, 6: 60}\n",
    "def is_key_present(x):\n",
    "    if x in d:\n",
    "        print('Key is present in the dictionary')\n",
    "\n",
    "    else:\n",
    "        print('Key is not present in the dictionary')\n",
    "is_key_present(5)\n",
    "is_key_present(9)"
   ]
  },
  {
   "cell_type": "code",
   "execution_count": null,
   "metadata": {},
   "outputs": [],
   "source": []
  }
 ],
 "metadata": {
  "kernelspec": {
   "display_name": "Python 3",
   "language": "python",
   "name": "python3"
  },
  "language_info": {
   "codemirror_mode": {
    "name": "ipython",
    "version": 3
   },
   "file_extension": ".py",
   "mimetype": "text/x-python",
   "name": "python",
   "nbconvert_exporter": "python",
   "pygments_lexer": "ipython3",
   "version": "3.7.4"
  }
 },
 "nbformat": 4,
 "nbformat_minor": 2
}

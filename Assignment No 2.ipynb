{
 "cells": [
  {
   "cell_type": "code",
   "execution_count": 29,
   "metadata": {
    "scrolled": true
   },
   "outputs": [
    {
     "name": "stdout",
     "output_type": "stream",
     "text": [
      "Enter Marks of English: 60\n",
      "Enter Marks of Urdu: 80\n",
      "Enter Marks of Science: 90\n",
      "Enter Marks of Maths: 100\n",
      "Enter Marks of Islamiat: 90\n",
      "Grade: A\n"
     ]
    }
   ],
   "source": [
    "Sub1 = input ('Enter Marks of English: ')\n",
    "Sub2 = input ('Enter Marks of Urdu: ')\n",
    "Sub3 = input ('Enter Marks of Science: ')\n",
    "Sub4 = input ('Enter Marks of Maths: ')\n",
    "Sub5 = input ('Enter Marks of Islamiat: ')\n",
    "\n",
    "Sub1 = int(Sub1)\n",
    "Sub2 = int(Sub2)\n",
    "Sub3 = int(Sub3)\n",
    "Sub4 = int(Sub4)\n",
    "Sub5 = int(Sub5)\n",
    "avg = (Sub1+Sub2+Sub3+Sub4+Sub5)\n",
    "\n",
    "if avg >90 or (avg <80):\n",
    "    print(\"Grade: A\")\n",
    "elif avg > 79 or (avg < 61):\n",
    "    print(\"Grade: B\")\n",
    "elif avg > 60 or (avg < 40):\n",
    "    print(\"Grade: C\")\n",
    "elif avg > 40 or (avg < 39):\n",
    "    print(\"Grade: D\")\n",
    "else:\n",
    "    print(\"Grade: F\")"
   ]
  },
  {
   "cell_type": "code",
   "execution_count": 28,
   "metadata": {},
   "outputs": [
    {
     "name": "stdout",
     "output_type": "stream",
     "text": [
      "Enter a number: 97\n",
      "This is an odd number.\n"
     ]
    }
   ],
   "source": [
    "num = int(input(\"Enter a number: \"))\n",
    "mod = num % 2\n",
    "if mod > 0:\n",
    "    print(\"This is an Odd Number.\")\n",
    "else:\n",
    "    print(\"This is an Even Number.\")"
   ]
  },
  {
   "cell_type": "code",
   "execution_count": 7,
   "metadata": {},
   "outputs": [
    {
     "name": "stdout",
     "output_type": "stream",
     "text": [
      "Length of given list is:  8\n"
     ]
    }
   ],
   "source": [
    "list_length=(1,20,6,8,2,9,21,186)\n",
    "print(\"Length of given list is: \", len(list_length))"
   ]
  },
  {
   "cell_type": "code",
   "execution_count": 14,
   "metadata": {},
   "outputs": [
    {
     "name": "stdout",
     "output_type": "stream",
     "text": [
      "How Many Numbers: 3\n",
      "Enter Numbers: 100\n",
      "Enter Numbers: 50\n",
      "Enter Numbers: 50\n",
      "Sum of total numbers in the given above list is : 200\n"
     ]
    }
   ],
   "source": [
    "list = []\n",
    "num = int(input('How Many Numbers: '))\n",
    "for n in range(num):\n",
    "    Numbers = int(input('Enter Numbers: '))\n",
    "    list.append(Numbers)\n",
    "print(\"Sum of total numbers in the given above list is :\", sum(list))"
   ]
  },
  {
   "cell_type": "code",
   "execution_count": 19,
   "metadata": {},
   "outputs": [
    {
     "name": "stdout",
     "output_type": "stream",
     "text": [
      "How many numbers: 5\n",
      "Enter number 150\n",
      "Enter number 250\n",
      "Enter number 350\n",
      "Enter number 1600\n",
      "Enter number 1651\n",
      "Maximum largest number in the list is : 1651\n"
     ]
    }
   ],
   "source": [
    "lst = []\n",
    "num = int(input('How many numbers: '))\n",
    "for n in range(num):\n",
    "    numbers = int(input('Enter number '))\n",
    "    lst.append(numbers)\n",
    "print(\"Maximum largest number in the list is :\", max(lst))"
   ]
  },
  {
   "cell_type": "code",
   "execution_count": 22,
   "metadata": {},
   "outputs": [
    {
     "name": "stdout",
     "output_type": "stream",
     "text": [
      "1\n",
      "1\n",
      "2\n",
      "3\n"
     ]
    }
   ],
   "source": [
    "a = [1, 1, 2, 3, 5, 8, 13, 21, 34, 55, 89]\n",
    "\n",
    "for i in a:\n",
    "    if i < 5:\n",
    "        print(i)"
   ]
  },
  {
   "cell_type": "code",
   "execution_count": null,
   "metadata": {},
   "outputs": [],
   "source": []
  }
 ],
 "metadata": {
  "kernelspec": {
   "display_name": "Python 3",
   "language": "python",
   "name": "python3"
  },
  "language_info": {
   "codemirror_mode": {
    "name": "ipython",
    "version": 3
   },
   "file_extension": ".py",
   "mimetype": "text/x-python",
   "name": "python",
   "nbconvert_exporter": "python",
   "pygments_lexer": "ipython3",
   "version": "3.7.4"
  }
 },
 "nbformat": 4,
 "nbformat_minor": 2
}

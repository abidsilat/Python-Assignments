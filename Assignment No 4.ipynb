{
 "cells": [
  {
   "cell_type": "code",
   "execution_count": 4,
   "metadata": {},
   "outputs": [
    {
     "name": "stdout",
     "output_type": "stream",
     "text": [
      "Abid Hussain\n",
      "Silat\n",
      "37\n",
      "Karachi\n"
     ]
    }
   ],
   "source": [
    "person = {\n",
    "    'firstname': 'Abid Hussain',\n",
    "    'lastname': 'Silat',\n",
    "    'age': 37,\n",
    "    'city': 'Karachi',\n",
    "    }\n",
    "\n",
    "print(person['firstname'])\n",
    "print(person['lastname'])\n",
    "print(person['age'])\n",
    "print(person['city'])"
   ]
  },
  {
   "cell_type": "code",
   "execution_count": 20,
   "metadata": {},
   "outputs": [
    {
     "name": "stdout",
     "output_type": "stream",
     "text": [
      "\n",
      "Karachi is inPakistan.\n",
      "It has a population of about15,741,000.\n",
      "The fact about City: It Is The Sixth Largest City In The World By City Population.\n",
      "\n",
      "Peshawar is inPakistan.\n",
      "It has a population of about2,133,000.\n",
      "The fact about City: Is One Of The Metropolitan Cities Of Pakistan Being The 5Th Largest In Terms Of Size. It Is The Capital Of Khyber Pakhtunkhwa And A Perfect Representation Of The Province. This City Has A Rich Historical Background And An Even Richer Culture.\n",
      "\n",
      "Quetta is inPakistan.\n",
      "It has a population of about2,275,699.\n",
      "The fact about City: Quetta Is At An Average Elevation Of 1,680 Metres (5,510 Feet) Above Sea Level, Making It Pakistan Only High-Altitude Major City. The City Is Known As The Fruit Garden Of Pakistan, Due To The Numerous Fruit Orchards In And Around It, And The Large Variety Of Fruits And Dried Fruit Products Produced There.\n"
     ]
    }
   ],
   "source": [
    "Cities = {\n",
    "    'Karachi': {\n",
    "        'country': 'Pakistan',\n",
    "        'population': \"15,741,000\",\n",
    "        'fact about City': 'It is the Sixth largest city in the world by city population.',\n",
    "        },\n",
    "    'Peshawar': {\n",
    "        'country': 'Pakistan',\n",
    "        'population': \"2,133,000\",\n",
    "        'fact about City': 'is one of the metropolitan cities of Pakistan being the 5th largest in terms of size. It is the capital of Khyber Pakhtunkhwa and a perfect representation of the province. This city has a rich historical background and an even richer culture.',\n",
    "        },\n",
    "    'Quetta': {\n",
    "        'country': 'Pakistan',\n",
    "        'population': \"2,275,699\",\n",
    "        'fact about City': 'Quetta is at an average elevation of 1,680 metres (5,510 feet) above sea level, making it Pakistan only high-altitude major city. The city is known as the Fruit Garden of Pakistan, due to the numerous fruit orchards in and around it, and the large variety of fruits and dried fruit products produced there.',\n",
    "        }\n",
    "    }\n",
    "\n",
    "for City, City_info in Cities.items():\n",
    "    country = City_info['country'].title()\n",
    "    population = City_info['population']\n",
    "    fact = City_info['fact about City'].title()\n",
    "\n",
    "    print(\"\\n\" + City.title() + \" is in\" + country + \".\")\n",
    "    print(\"It has a population of about\" + str(population) + \".\")\n",
    "    print(\"The fact about City: \" + fact)"
   ]
  },
  {
   "cell_type": "code",
   "execution_count": 23,
   "metadata": {},
   "outputs": [
    {
     "name": "stdout",
     "output_type": "stream",
     "text": [
      "How old are you?\n",
      "Enter 'exit' when you are finished. 2\n",
      "  You get in free!\n",
      "How old are you?\n",
      "Enter 'exit' when you are finished. 10\n",
      "  Your ticket is $10.\n",
      "How old are you?\n",
      "Enter 'exit' when you are finished. 25\n",
      "  Your ticket is $15.\n",
      "How old are you?\n",
      "Enter 'exit' when you are finished. exit\n"
     ]
    }
   ],
   "source": [
    "input1 = \"How old are you?\"\n",
    "input1 += \"\\nEnter 'exit' when you are finished. \"\n",
    "\n",
    "while True:\n",
    "    age = input(input1)\n",
    "    if age == 'exit':\n",
    "        break\n",
    "    age = int(age)\n",
    "\n",
    "    if age < 3:\n",
    "        print(\"  You get in free!\")\n",
    "    elif age < 12:\n",
    "        print(\"  Your ticket is $10.\")\n",
    "    else:\n",
    "        print(\"  Your ticket is $15.\")"
   ]
  },
  {
   "cell_type": "code",
   "execution_count": 28,
   "metadata": {},
   "outputs": [
    {
     "name": "stdout",
     "output_type": "stream",
     "text": [
      "Python 3, is one of my favorite books.\n"
     ]
    }
   ],
   "source": [
    "def favorite_book(title):\n",
    "    print(title + \", is one of my favorite books.\")\n",
    "\n",
    "favorite_book('Python 3')"
   ]
  },
  {
   "cell_type": "code",
   "execution_count": 66,
   "metadata": {},
   "outputs": [
    {
     "name": "stdout",
     "output_type": "stream",
     "text": [
      "What is your name?\n",
      "Abid Hussain Silat\n",
      "Well, Abid Hussain Silat, I am thinking of a number between 1 and 30.\n",
      "Take a guess.\n",
      "15\n",
      "Good job, Abid Hussain Silat! You guessed my number in 1 guesses!\n"
     ]
    }
   ],
   "source": [
    "import random\n",
    "\n",
    "guessesTaken = 0\n",
    "\n",
    "print('What is your name?')\n",
    "myName = input()\n",
    "\n",
    "number = random.randint(1, 30)\n",
    "print('Well, ' + myName + ', I am thinking of a number between 1 and 30.')\n",
    "\n",
    "while guessesTaken < 3:\n",
    "    print('Take a guess.')\n",
    "    guess = input()\n",
    "    guess = int(guess)\n",
    "    \n",
    "    guessesTaken = guessesTaken + 1\n",
    "\n",
    "    if guess < number:\n",
    "        print('Your guess is too low.') \n",
    "\n",
    "    if guess > number:\n",
    "        print('Your guess is too high.')\n",
    "\n",
    "    if guess == number:\n",
    "        break\n",
    "    \n",
    "if guess == number:\n",
    "    guessesTaken = str(guessesTaken)\n",
    "    print('Good job, ' + myName + '! You guessed my number in ' + guessesTaken + ' guesses!')\n",
    "    \n",
    "if guess != number:\n",
    "    number = str(number)\n",
    "    print('Nope. The number I was thinking of was ' + number)"
   ]
  },
  {
   "cell_type": "code",
   "execution_count": null,
   "metadata": {},
   "outputs": [],
   "source": []
  }
 ],
 "metadata": {
  "kernelspec": {
   "display_name": "Python 3",
   "language": "python",
   "name": "python3"
  },
  "language_info": {
   "codemirror_mode": {
    "name": "ipython",
    "version": 3
   },
   "file_extension": ".py",
   "mimetype": "text/x-python",
   "name": "python",
   "nbconvert_exporter": "python",
   "pygments_lexer": "ipython3",
   "version": "3.7.4"
  }
 },
 "nbformat": 4,
 "nbformat_minor": 2
}
